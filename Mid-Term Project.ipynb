{
 "cells": [
  {
   "cell_type": "markdown",
   "metadata": {},
   "source": [
    "# Mid-Term Project: LeBron James"
   ]
  },
  {
   "cell_type": "markdown",
   "metadata": {},
   "source": [
    "### Introduction\n",
    "\n",
    "\n",
    "I want to see if LeBron James actually is the best basketball player, and these are the questions I will use to determine that\n",
    "\n",
    "Potential Questions for the project:\n",
    "\n",
    "1. How does LeBron James continue to improve with age?\n",
    "2. Is LeBron the greatest player of all time (the GOAT)?\n",
    "3. Do statistics define how good an NBA player is?\n",
    "4. Is LeBron worth the money that he is paid?\n",
    "5. How does LeBron's stats compare to the greatest HOF players?"
   ]
  },
  {
   "cell_type": "markdown",
   "metadata": {},
   "source": [
    "### Research Question:"
   ]
  },
  {
   "cell_type": "markdown",
   "metadata": {},
   "source": [
    "##### Is LeBron the greatest basketball player of all time?"
   ]
  },
  {
   "cell_type": "markdown",
   "metadata": {},
   "source": [
    "If we are going to evaluate one player as the greatest basketball player of all time, then we are talking about the best individual basketball. This title is known as the GOAT, or Greatest Of All Time.\n",
    "\n",
    "Statistics and data are the only way to determine who the GOAT is. Data has been collected over the years for all kinds of categories in the game of basketball. With these statistics, we can determine who the best basketball player of all time is."
   ]
  },
  {
   "cell_type": "markdown",
   "metadata": {},
   "source": [
    "- We will find the r values (correlation coefficients) for every column of statistics relative to the points scored. The rows with the highest r values mean that they correlate to the most points scored\n",
    "- Whichever player has more r values that are of some significance, that player would be the better overall scorer\n",
    "- The issue with this is that it only determines who the best scorer is\n",
    "- Already, we know that michael jordan has the 2nd most points scored in NBA history\n",
    "- LeBron James is still an active player, the data may be a little different because his career still is not over"
   ]
  },
  {
   "cell_type": "markdown",
   "metadata": {},
   "source": [
    "In my own personal opinion, I believe LeBron James is the best basketball player to ever walk the planet earth. Even now, as he has played the same number of games as Michael Jordan, I believe he is the greatest of all time. That being said, I understand that there is bias in my argument. I grew up as a kid watching LeBron James, not Michael Jordan. Half of my family lived/lives in Cleveland, just outside of his hometown of Akron, Ohio, and in the heart of the city whos team he plays for. With side notes aside, let's take a look at the data and determine who Python thinks is the best of the two."
   ]
  },
  {
   "cell_type": "markdown",
   "metadata": {},
   "source": [
    "## Dataset Preparation:\n",
    "\n",
    "All of my data was from basketballreference.com. They gave me the option to export their data tables as csv files, which I copied and pasted into a blank notepad document. From notepad, I exported/saved the file as a CSV file onto my desktop. After this step, I started to clean my document. It did not have any issues with things that were hard to sort, because this wasn't exactly a \"big data\" file. Instead, the cleaning took barely any time at all, and in the end I saved the new, cleaned document as a new CSV file into my Big Data folder, which I then imported into the lab.\n",
    "\n",
    "\n",
    "##### As far as my code goes, I did the following:\n",
    "\n",
    "First, I imported cleaned data files with the career statistics of both LeBron James and Michael Jordan. From this, I decided to help myself out by importing pandas and numpys. \n",
    "\n",
    "Second, I applied the imported pandas and numpys to make the csv file easier to read and make sense of\n",
    "\n",
    "Third, I ran a for loop that excluded all headers/columns that were not the \"Points\" category, and correlated them to the \"Points\" column/section\n",
    "\n",
    "Fourth, I sorted the correlation values from smallest to largest in order to see which r values stood out more so than others."
   ]
  },
  {
   "cell_type": "code",
   "execution_count": 6,
   "metadata": {},
   "outputs": [
    {
     "data": {
      "text/html": [
       "<div>\n",
       "<style>\n",
       "    .dataframe thead tr:only-child th {\n",
       "        text-align: right;\n",
       "    }\n",
       "\n",
       "    .dataframe thead th {\n",
       "        text-align: left;\n",
       "    }\n",
       "\n",
       "    .dataframe tbody tr th {\n",
       "        vertical-align: top;\n",
       "    }\n",
       "</style>\n",
       "<table border=\"1\" class=\"dataframe\">\n",
       "  <thead>\n",
       "    <tr style=\"text-align: right;\">\n",
       "      <th></th>\n",
       "      <th>Season</th>\n",
       "      <th>Age</th>\n",
       "      <th>Team</th>\n",
       "      <th>League</th>\n",
       "      <th>Position</th>\n",
       "      <th>Games Played</th>\n",
       "      <th>Games Started</th>\n",
       "      <th>Minutes Played</th>\n",
       "      <th>Field Goals</th>\n",
       "      <th>Field Goal Attempts</th>\n",
       "      <th>...</th>\n",
       "      <th>Free Throw %</th>\n",
       "      <th>Offensive Rebounds</th>\n",
       "      <th>Defensive Rebounds</th>\n",
       "      <th>Total Rebounds</th>\n",
       "      <th>Assists</th>\n",
       "      <th>Steals</th>\n",
       "      <th>Blocks</th>\n",
       "      <th>Turnovers</th>\n",
       "      <th>Personal Fouls</th>\n",
       "      <th>Points</th>\n",
       "    </tr>\n",
       "  </thead>\n",
       "  <tbody>\n",
       "    <tr>\n",
       "      <th>0</th>\n",
       "      <td>2003-04</td>\n",
       "      <td>19</td>\n",
       "      <td>CLE</td>\n",
       "      <td>NBA</td>\n",
       "      <td>SF</td>\n",
       "      <td>79</td>\n",
       "      <td>79</td>\n",
       "      <td>39.5</td>\n",
       "      <td>7.9</td>\n",
       "      <td>18.9</td>\n",
       "      <td>...</td>\n",
       "      <td>0.754</td>\n",
       "      <td>1.3</td>\n",
       "      <td>4.2</td>\n",
       "      <td>5.5</td>\n",
       "      <td>5.9</td>\n",
       "      <td>1.6</td>\n",
       "      <td>0.7</td>\n",
       "      <td>3.5</td>\n",
       "      <td>1.9</td>\n",
       "      <td>20.9</td>\n",
       "    </tr>\n",
       "    <tr>\n",
       "      <th>1</th>\n",
       "      <td>2004-05</td>\n",
       "      <td>20</td>\n",
       "      <td>CLE</td>\n",
       "      <td>NBA</td>\n",
       "      <td>SF</td>\n",
       "      <td>80</td>\n",
       "      <td>80</td>\n",
       "      <td>42.4</td>\n",
       "      <td>9.9</td>\n",
       "      <td>21.1</td>\n",
       "      <td>...</td>\n",
       "      <td>0.750</td>\n",
       "      <td>1.4</td>\n",
       "      <td>6.0</td>\n",
       "      <td>7.4</td>\n",
       "      <td>7.2</td>\n",
       "      <td>2.2</td>\n",
       "      <td>0.7</td>\n",
       "      <td>3.3</td>\n",
       "      <td>1.8</td>\n",
       "      <td>27.2</td>\n",
       "    </tr>\n",
       "    <tr>\n",
       "      <th>2</th>\n",
       "      <td>2005-06</td>\n",
       "      <td>21</td>\n",
       "      <td>CLE</td>\n",
       "      <td>NBA</td>\n",
       "      <td>SF</td>\n",
       "      <td>79</td>\n",
       "      <td>79</td>\n",
       "      <td>42.5</td>\n",
       "      <td>11.1</td>\n",
       "      <td>23.1</td>\n",
       "      <td>...</td>\n",
       "      <td>0.738</td>\n",
       "      <td>0.9</td>\n",
       "      <td>6.1</td>\n",
       "      <td>7.0</td>\n",
       "      <td>6.6</td>\n",
       "      <td>1.6</td>\n",
       "      <td>0.8</td>\n",
       "      <td>3.3</td>\n",
       "      <td>2.3</td>\n",
       "      <td>31.4</td>\n",
       "    </tr>\n",
       "  </tbody>\n",
       "</table>\n",
       "<p>3 rows × 30 columns</p>\n",
       "</div>"
      ],
      "text/plain": [
       "    Season  Age Team League Position  Games Played  Games Started  \\\n",
       "0  2003-04   19  CLE    NBA       SF            79             79   \n",
       "1  2004-05   20  CLE    NBA       SF            80             80   \n",
       "2  2005-06   21  CLE    NBA       SF            79             79   \n",
       "\n",
       "   Minutes Played  Field Goals  Field Goal Attempts   ...    Free Throw %  \\\n",
       "0            39.5          7.9                 18.9   ...           0.754   \n",
       "1            42.4          9.9                 21.1   ...           0.750   \n",
       "2            42.5         11.1                 23.1   ...           0.738   \n",
       "\n",
       "   Offensive Rebounds  Defensive Rebounds  Total Rebounds  Assists  Steals  \\\n",
       "0                 1.3                 4.2             5.5      5.9     1.6   \n",
       "1                 1.4                 6.0             7.4      7.2     2.2   \n",
       "2                 0.9                 6.1             7.0      6.6     1.6   \n",
       "\n",
       "   Blocks  Turnovers  Personal Fouls  Points  \n",
       "0     0.7        3.5             1.9    20.9  \n",
       "1     0.7        3.3             1.8    27.2  \n",
       "2     0.8        3.3             2.3    31.4  \n",
       "\n",
       "[3 rows x 30 columns]"
      ]
     },
     "execution_count": 6,
     "metadata": {},
     "output_type": "execute_result"
    }
   ],
   "source": [
    "import pandas as pd\n",
    "import numpy as np\n",
    "import matplotlib.pyplot as plt\n",
    "\n",
    "lebron_data = pd.read_csv(\"lebrondatacleaned.csv\")\n",
    "lebron_data [:3]"
   ]
  },
  {
   "cell_type": "code",
   "execution_count": 7,
   "metadata": {},
   "outputs": [
    {
     "data": {
      "text/html": [
       "<div>\n",
       "<style>\n",
       "    .dataframe thead tr:only-child th {\n",
       "        text-align: right;\n",
       "    }\n",
       "\n",
       "    .dataframe thead th {\n",
       "        text-align: left;\n",
       "    }\n",
       "\n",
       "    .dataframe tbody tr th {\n",
       "        vertical-align: top;\n",
       "    }\n",
       "</style>\n",
       "<table border=\"1\" class=\"dataframe\">\n",
       "  <thead>\n",
       "    <tr style=\"text-align: right;\">\n",
       "      <th></th>\n",
       "      <th>Season</th>\n",
       "      <th>Age</th>\n",
       "      <th>Team</th>\n",
       "      <th>League</th>\n",
       "      <th>Position</th>\n",
       "      <th>Games played</th>\n",
       "      <th>Games Started</th>\n",
       "      <th>Minutes Played</th>\n",
       "      <th>Field Goals</th>\n",
       "      <th>Field Goal Attempts</th>\n",
       "      <th>...</th>\n",
       "      <th>Free Throw %</th>\n",
       "      <th>Offensive Rebounds</th>\n",
       "      <th>Defensive Rebounds</th>\n",
       "      <th>Total Rebounds</th>\n",
       "      <th>Assists</th>\n",
       "      <th>Steals</th>\n",
       "      <th>Blocks</th>\n",
       "      <th>Turnovers</th>\n",
       "      <th>Personal Fouls</th>\n",
       "      <th>Points</th>\n",
       "    </tr>\n",
       "  </thead>\n",
       "  <tbody>\n",
       "    <tr>\n",
       "      <th>0</th>\n",
       "      <td>1984-85</td>\n",
       "      <td>21.0</td>\n",
       "      <td>CHI</td>\n",
       "      <td>NBA</td>\n",
       "      <td>SG</td>\n",
       "      <td>82</td>\n",
       "      <td>82</td>\n",
       "      <td>38.3</td>\n",
       "      <td>10.2</td>\n",
       "      <td>19.8</td>\n",
       "      <td>...</td>\n",
       "      <td>0.845</td>\n",
       "      <td>2.0</td>\n",
       "      <td>4.5</td>\n",
       "      <td>6.5</td>\n",
       "      <td>5.9</td>\n",
       "      <td>2.4</td>\n",
       "      <td>0.8</td>\n",
       "      <td>3.5</td>\n",
       "      <td>3.5</td>\n",
       "      <td>28.2</td>\n",
       "    </tr>\n",
       "    <tr>\n",
       "      <th>1</th>\n",
       "      <td>1985-86</td>\n",
       "      <td>22.0</td>\n",
       "      <td>CHI</td>\n",
       "      <td>NBA</td>\n",
       "      <td>SG</td>\n",
       "      <td>18</td>\n",
       "      <td>7</td>\n",
       "      <td>25.1</td>\n",
       "      <td>8.3</td>\n",
       "      <td>18.2</td>\n",
       "      <td>...</td>\n",
       "      <td>0.840</td>\n",
       "      <td>1.3</td>\n",
       "      <td>2.3</td>\n",
       "      <td>3.6</td>\n",
       "      <td>2.9</td>\n",
       "      <td>2.1</td>\n",
       "      <td>1.2</td>\n",
       "      <td>2.5</td>\n",
       "      <td>2.6</td>\n",
       "      <td>22.7</td>\n",
       "    </tr>\n",
       "    <tr>\n",
       "      <th>2</th>\n",
       "      <td>1986-87</td>\n",
       "      <td>23.0</td>\n",
       "      <td>CHI</td>\n",
       "      <td>NBA</td>\n",
       "      <td>SG</td>\n",
       "      <td>82</td>\n",
       "      <td>82</td>\n",
       "      <td>40.0</td>\n",
       "      <td>13.4</td>\n",
       "      <td>27.8</td>\n",
       "      <td>...</td>\n",
       "      <td>0.857</td>\n",
       "      <td>2.0</td>\n",
       "      <td>3.2</td>\n",
       "      <td>5.2</td>\n",
       "      <td>4.6</td>\n",
       "      <td>2.9</td>\n",
       "      <td>1.5</td>\n",
       "      <td>3.3</td>\n",
       "      <td>2.9</td>\n",
       "      <td>37.1</td>\n",
       "    </tr>\n",
       "  </tbody>\n",
       "</table>\n",
       "<p>3 rows × 30 columns</p>\n",
       "</div>"
      ],
      "text/plain": [
       "    Season   Age Team League Position  Games played  Games Started  \\\n",
       "0  1984-85  21.0  CHI    NBA       SG            82             82   \n",
       "1  1985-86  22.0  CHI    NBA       SG            18              7   \n",
       "2  1986-87  23.0  CHI    NBA       SG            82             82   \n",
       "\n",
       "   Minutes Played  Field Goals  Field Goal Attempts   ...    Free Throw %  \\\n",
       "0            38.3         10.2                 19.8   ...           0.845   \n",
       "1            25.1          8.3                 18.2   ...           0.840   \n",
       "2            40.0         13.4                 27.8   ...           0.857   \n",
       "\n",
       "   Offensive Rebounds  Defensive Rebounds  Total Rebounds  Assists  Steals  \\\n",
       "0                 2.0                 4.5             6.5      5.9     2.4   \n",
       "1                 1.3                 2.3             3.6      2.9     2.1   \n",
       "2                 2.0                 3.2             5.2      4.6     2.9   \n",
       "\n",
       "   Blocks  Turnovers  Personal Fouls  Points  \n",
       "0     0.8        3.5             3.5    28.2  \n",
       "1     1.2        2.5             2.6    22.7  \n",
       "2     1.5        3.3             2.9    37.1  \n",
       "\n",
       "[3 rows x 30 columns]"
      ]
     },
     "execution_count": 7,
     "metadata": {},
     "output_type": "execute_result"
    }
   ],
   "source": [
    "michaeljordan_data = pd.read_csv(\"michaeljordandata.csv\")\n",
    "michaeljordan_data [:3]"
   ]
  },
  {
   "cell_type": "markdown",
   "metadata": {},
   "source": [
    "I want to figure out correlation coefficients, and this is the way I will find those"
   ]
  },
  {
   "cell_type": "code",
   "execution_count": 13,
   "metadata": {},
   "outputs": [
    {
     "name": "stdout",
     "output_type": "stream",
     "text": [
      "[-0.36403106107444699, 'Turnovers']\n",
      "[-0.050426256679092007, 'Free Throw %']\n",
      "[0.039239232681886477, '3 Point %']\n",
      "[0.065869920381017757, 'Field Goal %']\n",
      "[0.068052474778744779, 'Offensive Rebounds']\n",
      "[0.092346159820258122, 'Effective Field Goal %']\n",
      "[0.1096506382008422, '2 Point %']\n",
      "[0.14408507205690915, 'Assists']\n",
      "[0.2245435470194917, 'Personal Fouls']\n",
      "[0.26487878927968611, 'Games Started']\n",
      "[0.26944908321431599, 'Games Played']\n",
      "[0.29037557656106039, 'Blocks']\n",
      "[0.30025407572538831, 'Steals']\n",
      "[0.43552032864253298, '2 Point Attempts']\n",
      "[0.44010381472717253, 'Minutes Played']\n",
      "[0.45879483702637752, 'Total Rebounds']\n",
      "[0.46846221611925754, 'Defensive Rebounds']\n",
      "[0.52372540710262772, '3 Pointers']\n",
      "[0.59205785016636703, '3 Point Attempts']\n",
      "[0.66736609470574282, 'Field Goal Attempts']\n",
      "[0.77358503334610007, '2 Pointers']\n",
      "[0.85340600646545706, 'Free Throws']\n",
      "[0.86438671565383485, 'Free Throws Attempted']\n",
      "[0.9034850319975043, 'Field Goals']\n"
     ]
    }
   ],
   "source": [
    "#i want to figure out correlation coefficients, this is the way I will find those \n",
    "lebronr_vals = []\n",
    "\n",
    "#loop thru columns and compute correlation coefficient (r)\n",
    "for ind, c in enumerate(lebron_data.columns):\n",
    "\n",
    "    if c != \"Season\" and c != \"Age\" and c != \"Team\" and c != \"League\" and c != \"Position\" and c != 'Points':\n",
    "        r = np.corrcoef(lebron_data[c], lebron_data['Points'])[0, 1]\n",
    "        lebronr_vals.append([r, c])\n",
    "        #performance.append([r])\n",
    "        #print(\"correlation between \", c, \" and Points is\", r)\n",
    "lebronr_vals.sort()\n",
    "#performance.sort()\n",
    "for i in range(len(lebronr_vals)):\n",
    "    print (lebronr_vals[i])"
   ]
  },
  {
   "cell_type": "markdown",
   "metadata": {},
   "source": [
    "### This is where i want the graph for lebron james"
   ]
  },
  {
   "cell_type": "markdown",
   "metadata": {},
   "source": [
    "I am going to look for the exact same data, this time with michael jordan's data."
   ]
  },
  {
   "cell_type": "code",
   "execution_count": 14,
   "metadata": {},
   "outputs": [
    {
     "name": "stdout",
     "output_type": "stream",
     "text": [
      "[-0.035308260059995884, 'Defensive Rebounds']\n",
      "[0.07584389494864148, '3 Point %']\n",
      "[0.1283348079228811, 'Games played']\n",
      "[0.14648427577201703, 'Games Started']\n",
      "[0.22265758834259763, '3 Pointers']\n",
      "[0.28454988249241608, 'Total Rebounds']\n",
      "[0.28493656642802034, '3 Point Attempts']\n",
      "[0.51123571409630642, 'Assists']\n",
      "[0.53052641472030926, 'Personal Fouls']\n",
      "[0.53245185253835947, 'Turnovers']\n",
      "[0.55274700667467724, 'Blocks']\n",
      "[0.60731703514704627, 'Minutes Played']\n",
      "[0.61551874318203914, 'Free Throw %']\n",
      "[0.71763897725801373, '2 Point %']\n",
      "[0.73402792929363958, 'Field Goal %']\n",
      "[0.74316084512005931, '2 Point Attempts']\n",
      "[0.75225204230212694, 'Effective Field Goal %']\n",
      "[0.78487026714653108, 'Offensive Rebounds']\n",
      "[0.81984283844123063, 'Field Goal Attempts']\n",
      "[0.8552083109488483, 'Steals']\n",
      "[0.87155947342887752, 'Free Throw Attempts']\n",
      "[0.88348312527488515, 'Free Throws']\n",
      "[0.93971464311591812, '2 Pointers']\n",
      "[0.97827326751442045, 'Field Goals']\n"
     ]
    }
   ],
   "source": [
    "mjr_vals = []\n",
    "performance = []\n",
    "\n",
    "#loop thru columns and compute correlation coefficient (r)\n",
    "for ind, c in enumerate(michaeljordan_data.columns):\n",
    "\n",
    "    if c != \"Season\" and c != \"Age\" and c != \"Team\" and c != \"League\" and c != \"Position\" and c != 'Points':\n",
    "        r = np.corrcoef(michaeljordan_data[c], michaeljordan_data['Points'])[0, 1]\n",
    "        mjr_vals.append([r, c])\n",
    "        performance.append([r])\n",
    "        #print(\"correlation between \", c, \" and Points is\", r)\n",
    "mjr_vals.sort()\n",
    "performance.sort()\n",
    "labels = []\n",
    "for i in range(len(mjr_vals)):\n",
    "    print (mjr_vals[i])\n",
    "    labels.append(mjr_vals[i][1])"
   ]
  },
  {
   "cell_type": "markdown",
   "metadata": {},
   "source": [
    "### This is where I want the graph for Michael Jordan"
   ]
  },
  {
   "cell_type": "code",
   "execution_count": null,
   "metadata": {
    "collapsed": true
   },
   "outputs": [],
   "source": [
    "#plt.xlabel(\"relation between statistic and points\")\n",
    "#plt.ylabel(\"r correlation to points\")\n",
    "#plt.plot(lebronr_vals)\n",
    "#plt.show()"
   ]
  },
  {
   "cell_type": "code",
   "execution_count": null,
   "metadata": {
    "collapsed": true
   },
   "outputs": [],
   "source": []
  },
  {
   "cell_type": "code",
   "execution_count": null,
   "metadata": {},
   "outputs": [],
   "source": [
    "#mjr_vals_np = np.array(mjr_vals)\n",
    "\n",
    "#x, y = mjr_vals_np.T\n",
    "\n",
    "#plt.xlabel(\"Header Number\")\n",
    "#plt.ylabel(\"r correlation to points\")\n",
    "#plt.plot(x)\n",
    "#plt.xticks(x, labels, rotation='vertical')\n",
    "#plt.show()"
   ]
  },
  {
   "cell_type": "markdown",
   "metadata": {},
   "source": [
    "This graph is interesting, because it shows us that some of the stats have no realation to points, and other stats have a huge relation to points. I would guess that the number of steals per game has nothing to do with the number of points you score, because not only are those two stats defensive and offensive, but number of steals doesn't necessarily mean you are going to have 40 points a night."
   ]
  },
  {
   "cell_type": "markdown",
   "metadata": {},
   "source": [
    "## Data Modeling:\n",
    "\n",
    "- This graph depicts the correlation coefficient of each column relative to the \"points\" section.\n",
    "- The issue with this graph is that the x label that states \"Header Number\" means that instead of knowing what column is highly correlated to the points column, there is just a number in its place. If we wanted to know which header was what number, then code would need to be run to state what header number is what column. It isn't really necessary, because the point of the graph is to show the general trend of correlations relative to points, with data from earlier stating what that header is called."
   ]
  },
  {
   "cell_type": "code",
   "execution_count": null,
   "metadata": {},
   "outputs": [],
   "source": [
    "#y_pos = np.arange(len(mjr_vals_np))\n",
    "\n",
    "#plt.bar(y_pos, performance, align='center', alpha=0.3)"
   ]
  },
  {
   "cell_type": "markdown",
   "metadata": {},
   "source": [
    "## Data Analysis and Conclusion:\n",
    "\n",
    "- After analyzing the data, it can be determined that Michael Jordan was a much better scorer than LeBron James. What is interesting is just how high the correlation factor between field goals and points is from Michael Jordan's data, coming in at a .97 r value. LeBron's highest r value is also field goals, his being only .9 though.\n",
    "- Michael Jordan's highest correlations are much higher than LeBron's as well. MJ has the \"2 pointers\" column at a much higher correlation coefficient than LeBron's, another interesting thing to note.\n",
    "- What is also interesting is that Michael Jordan's steals also had a super high correlation to points scored. This is interesting to note, because one conclusion from that information would be that the better defense you play, the more effective you are on offense.\n",
    "- A couple things to note are that these are only correlations between points and other categories. Random anomalies stick out like Offensive Rebounds in LeBron's data, which has an r value of 0.06. It would generally make sense that the more offensive rebounds you rack up, the more points you would score because you can just shoot the ball right after you grab the rebound. Especially because LeBron James is such a good finisher at the rim, it makes no sense why Offensive Rebounds would have nothing to do with the number of points you score on a game-to-game basis.\n",
    "- In the end, Michael Jordan is the better scorer than LeBron James. However, I don't think that this gives quite enough credit to LeBron for being an all-around basketball player, not just a scorer. To determine who the better overall basketball player is, I think more information would be necessary in order to draw that conclusion.\n",
    "- In the future, I would hope to do more with code if I knew how to do it, or if I spent my entire weekend trying to figure out how best to portray my data. Lots of segments of code are left with errors, and that's fine with me because at least I tried to make it work in the first place."
   ]
  },
  {
   "cell_type": "markdown",
   "metadata": {},
   "source": [
    "#### Acknowledgements:\n",
    "\n",
    "- Thank you to Tracey for helping me with code and running the for loop, plus the naming of headers\n",
    "- Aside from that, this lab was done completely on my own without help from other students. This was entirely individualized, not collaborative."
   ]
  }
 ],
 "metadata": {
  "kernelspec": {
   "display_name": "Python 3",
   "language": "python",
   "name": "python3"
  },
  "language_info": {
   "codemirror_mode": {
    "name": "ipython",
    "version": 3
   },
   "file_extension": ".py",
   "mimetype": "text/x-python",
   "name": "python",
   "nbconvert_exporter": "python",
   "pygments_lexer": "ipython3",
   "version": "3.6.1"
  }
 },
 "nbformat": 4,
 "nbformat_minor": 2
}
